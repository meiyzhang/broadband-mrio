{
 "cells": [
  {
   "cell_type": "code",
   "execution_count": 5,
   "metadata": {},
   "outputs": [],
   "source": [
    "import pymrio  \n",
    "from pymrio.core.constants import PYMRIO_PATH\n",
    "import os  \n",
    "import matplotlib.pyplot as plt  \n",
    "import numpy as np  \n",
    "import seaborn as sns  \n",
    "from pathlib import Path\n",
    "import plotly.graph_objects as go "
   ]
  },
  {
   "cell_type": "code",
   "execution_count": null,
   "metadata": {},
   "outputs": [
    {
     "name": "stderr",
     "output_type": "stream",
     "text": [
      "C:\\Users\\megan\\AppData\\Local\\Packages\\PythonSoftwareFoundation.Python.3.11_qbz5n2kfra8p0\\LocalCache\\local-packages\\Python311\\site-packages\\pymrio\\tools\\ioparser.py:1949: PerformanceWarning: dropping on a non-lexsorted multi-index without a level parameter may impact performance.\n",
      "  eora_data[key].drop(row_name, axis=1, inplace=True)\n",
      "C:\\Users\\megan\\AppData\\Local\\Packages\\PythonSoftwareFoundation.Python.3.11_qbz5n2kfra8p0\\LocalCache\\local-packages\\Python311\\site-packages\\pymrio\\tools\\ioparser.py:1962: PerformanceWarning: dropping on a non-lexsorted multi-index without a level parameter may impact performance.\n",
      "  eora_data[key].drop(row_name, axis=0, inplace=True)\n",
      "C:\\Users\\megan\\AppData\\Local\\Packages\\PythonSoftwareFoundation.Python.3.11_qbz5n2kfra8p0\\LocalCache\\local-packages\\Python311\\site-packages\\pymrio\\tools\\ioparser.py:1949: PerformanceWarning: dropping on a non-lexsorted multi-index without a level parameter may impact performance.\n",
      "  eora_data[key].drop(row_name, axis=1, inplace=True)\n",
      "C:\\Users\\megan\\AppData\\Local\\Packages\\PythonSoftwareFoundation.Python.3.11_qbz5n2kfra8p0\\LocalCache\\local-packages\\Python311\\site-packages\\pymrio\\tools\\ioparser.py:1949: PerformanceWarning: dropping on a non-lexsorted multi-index without a level parameter may impact performance.\n",
      "  eora_data[key].drop(row_name, axis=1, inplace=True)\n",
      "C:\\Users\\megan\\AppData\\Local\\Packages\\PythonSoftwareFoundation.Python.3.11_qbz5n2kfra8p0\\LocalCache\\local-packages\\Python311\\site-packages\\pymrio\\tools\\ioparser.py:1949: PerformanceWarning: dropping on a non-lexsorted multi-index without a level parameter may impact performance.\n",
      "  eora_data[key].drop(row_name, axis=1, inplace=True)\n",
      "C:\\Users\\megan\\AppData\\Local\\Packages\\PythonSoftwareFoundation.Python.3.11_qbz5n2kfra8p0\\LocalCache\\local-packages\\Python311\\site-packages\\pymrio\\tools\\ioparser.py:1949: PerformanceWarning: dropping on a non-lexsorted multi-index without a level parameter may impact performance.\n",
      "  eora_data[key].drop(row_name, axis=1, inplace=True)\n",
      "C:\\Users\\megan\\AppData\\Local\\Packages\\PythonSoftwareFoundation.Python.3.11_qbz5n2kfra8p0\\LocalCache\\local-packages\\Python311\\site-packages\\pymrio\\tools\\ioparser.py:1962: PerformanceWarning: dropping on a non-lexsorted multi-index without a level parameter may impact performance.\n",
      "  eora_data[key].drop(row_name, axis=0, inplace=True)\n",
      "C:\\Users\\megan\\AppData\\Local\\Packages\\PythonSoftwareFoundation.Python.3.11_qbz5n2kfra8p0\\LocalCache\\local-packages\\Python311\\site-packages\\pymrio\\core\\mriosystem.py:900: FutureWarning: DataFrame.groupby with axis=1 is deprecated. Do `frame.T.groupby(...)` without axis instead.\n",
      "  Y_agg = Y.groupby(level=\"region\", axis=1, sort=False).sum()\n",
      "C:\\Users\\megan\\AppData\\Local\\Packages\\PythonSoftwareFoundation.Python.3.11_qbz5n2kfra8p0\\LocalCache\\local-packages\\Python311\\site-packages\\pymrio\\core\\mriosystem.py:956: FutureWarning: DataFrame.groupby with axis=1 is deprecated. Do `frame.T.groupby(...)` without axis instead.\n",
      "  F_Y_agg = self.F_Y.groupby(level=\"region\", axis=1, sort=False).sum()\n",
      "C:\\Users\\megan\\AppData\\Local\\Packages\\PythonSoftwareFoundation.Python.3.11_qbz5n2kfra8p0\\LocalCache\\local-packages\\Python311\\site-packages\\pymrio\\core\\mriosystem.py:984: FutureWarning: DataFrame.groupby with axis=1 is deprecated. Do `frame.T.groupby(...)` without axis instead.\n",
      "  self.D_cba.groupby(level=\"region\", axis=1, sort=False).sum()\n",
      "C:\\Users\\megan\\AppData\\Local\\Packages\\PythonSoftwareFoundation.Python.3.11_qbz5n2kfra8p0\\LocalCache\\local-packages\\Python311\\site-packages\\pymrio\\core\\mriosystem.py:993: FutureWarning: DataFrame.groupby with axis=1 is deprecated. Do `frame.T.groupby(...)` without axis instead.\n",
      "  self.D_pba.groupby(level=\"region\", axis=1, sort=False).sum()\n",
      "C:\\Users\\megan\\AppData\\Local\\Packages\\PythonSoftwareFoundation.Python.3.11_qbz5n2kfra8p0\\LocalCache\\local-packages\\Python311\\site-packages\\pymrio\\core\\mriosystem.py:1001: FutureWarning: DataFrame.groupby with axis=1 is deprecated. Do `frame.T.groupby(...)` without axis instead.\n",
      "  self.D_imp_reg = self.D_imp.groupby(\n",
      "C:\\Users\\megan\\AppData\\Local\\Packages\\PythonSoftwareFoundation.Python.3.11_qbz5n2kfra8p0\\LocalCache\\local-packages\\Python311\\site-packages\\pymrio\\core\\mriosystem.py:1007: FutureWarning: DataFrame.groupby with axis=1 is deprecated. Do `frame.T.groupby(...)` without axis instead.\n",
      "  self.D_exp_reg = self.D_exp.groupby(\n",
      "C:\\Users\\megan\\AppData\\Local\\Packages\\PythonSoftwareFoundation.Python.3.11_qbz5n2kfra8p0\\LocalCache\\local-packages\\Python311\\site-packages\\pymrio\\core\\mriosystem.py:900: FutureWarning: DataFrame.groupby with axis=1 is deprecated. Do `frame.T.groupby(...)` without axis instead.\n",
      "  Y_agg = Y.groupby(level=\"region\", axis=1, sort=False).sum()\n",
      "C:\\Users\\megan\\AppData\\Local\\Packages\\PythonSoftwareFoundation.Python.3.11_qbz5n2kfra8p0\\LocalCache\\local-packages\\Python311\\site-packages\\pymrio\\core\\mriosystem.py:984: FutureWarning: DataFrame.groupby with axis=1 is deprecated. Do `frame.T.groupby(...)` without axis instead.\n",
      "  self.D_cba.groupby(level=\"region\", axis=1, sort=False).sum()\n",
      "C:\\Users\\megan\\AppData\\Local\\Packages\\PythonSoftwareFoundation.Python.3.11_qbz5n2kfra8p0\\LocalCache\\local-packages\\Python311\\site-packages\\pymrio\\core\\mriosystem.py:993: FutureWarning: DataFrame.groupby with axis=1 is deprecated. Do `frame.T.groupby(...)` without axis instead.\n",
      "  self.D_pba.groupby(level=\"region\", axis=1, sort=False).sum()\n",
      "C:\\Users\\megan\\AppData\\Local\\Packages\\PythonSoftwareFoundation.Python.3.11_qbz5n2kfra8p0\\LocalCache\\local-packages\\Python311\\site-packages\\pymrio\\core\\mriosystem.py:1001: FutureWarning: DataFrame.groupby with axis=1 is deprecated. Do `frame.T.groupby(...)` without axis instead.\n",
      "  self.D_imp_reg = self.D_imp.groupby(\n",
      "C:\\Users\\megan\\AppData\\Local\\Packages\\PythonSoftwareFoundation.Python.3.11_qbz5n2kfra8p0\\LocalCache\\local-packages\\Python311\\site-packages\\pymrio\\core\\mriosystem.py:1007: FutureWarning: DataFrame.groupby with axis=1 is deprecated. Do `frame.T.groupby(...)` without axis instead.\n",
      "  self.D_exp_reg = self.D_exp.groupby(\n",
      "C:\\Users\\megan\\AppData\\Local\\Packages\\PythonSoftwareFoundation.Python.3.11_qbz5n2kfra8p0\\LocalCache\\local-packages\\Python311\\site-packages\\pymrio\\core\\mriosystem.py:900: FutureWarning: DataFrame.groupby with axis=1 is deprecated. Do `frame.T.groupby(...)` without axis instead.\n",
      "  Y_agg = Y.groupby(level=\"region\", axis=1, sort=False).sum()\n",
      "C:\\Users\\megan\\AppData\\Local\\Packages\\PythonSoftwareFoundation.Python.3.11_qbz5n2kfra8p0\\LocalCache\\local-packages\\Python311\\site-packages\\pymrio\\core\\mriosystem.py:956: FutureWarning: DataFrame.groupby with axis=1 is deprecated. Do `frame.T.groupby(...)` without axis instead.\n",
      "  F_Y_agg = self.F_Y.groupby(level=\"region\", axis=1, sort=False).sum()\n",
      "C:\\Users\\megan\\AppData\\Local\\Packages\\PythonSoftwareFoundation.Python.3.11_qbz5n2kfra8p0\\LocalCache\\local-packages\\Python311\\site-packages\\pymrio\\core\\mriosystem.py:900: FutureWarning: DataFrame.groupby with axis=1 is deprecated. Do `frame.T.groupby(...)` without axis instead.\n",
      "  Y_agg = Y.groupby(level=\"region\", axis=1, sort=False).sum()\n"
     ]
    },
    {
     "data": {
      "text/plain": [
       "<pymrio.core.mriosystem.IOSystem at 0x28f52643f90>"
      ]
     },
     "execution_count": 6,
     "metadata": {},
     "output_type": "execute_result"
    }
   ],
   "source": [
    "eora_path = 'C:/Users/megan/mz_codes/Eora26_2022_bp'  \n",
    "eora26 = pymrio.parse_eora26(eora_path, year=2022)  \n",
    "  \n",
    "x_array = np.array(eora26.x)  \n",
    "if np.any(x_array == 0):  \n",
    "   mean_value = np.nanmean(x_array[x_array != 0])  \n",
    "   x_array[x_array == 0] = mean_value  \n",
    "   eora26.x = x_array  \n",
    "  \n",
    "eora26.calc_all()  \n",
    "eora26.calc_extensions()"
   ]
  },
  {
   "cell_type": "code",
   "execution_count": 8,
   "metadata": {},
   "outputs": [
    {
     "name": "stdout",
     "output_type": "stream",
     "text": [
      "Done at this step.\n"
     ]
    }
   ],
   "source": [
    "if eora26.A is None:  \n",
    "   print(\"The input-output table is not available.\")  \n",
    "else:  \n",
    "   regions = eora26.A.index.get_level_values(0).unique()  \n",
    "   sectors = eora26.A.index.get_level_values(1).unique()  \n",
    "   io_table = eora26.A  \n",
    "   fd_table = eora26.Y  \n",
    "   leontief_inverse = eora26.L  \n",
    "   print(\"Done at this step.\") "
   ]
  },
  {
   "cell_type": "code",
   "execution_count": 10,
   "metadata": {},
   "outputs": [
    {
     "name": "stdout",
     "output_type": "stream",
     "text": [
      "region                                                           AFG  \\\n",
      "sector                                                   Agriculture   \n",
      "region sector                                                          \n",
      "AFG    Post and Telecommunications                      6.409159e-04   \n",
      "ALB    Post and Telecommunications                      9.553212e-08   \n",
      "DZA    Post and Telecommunications                      2.687409e-08   \n",
      "AND    Post and Telecommunications                      5.054610e-07   \n",
      "AGO    Post and Telecommunications                      6.392111e-08   \n",
      "...                                                              ...   \n",
      "VEN    Finacial Intermediation and Business Activities  4.534413e-13   \n",
      "VNM    Finacial Intermediation and Business Activities  6.701878e-06   \n",
      "YEM    Finacial Intermediation and Business Activities  1.025670e-09   \n",
      "ZMB    Finacial Intermediation and Business Activities  9.288713e-09   \n",
      "ZWE    Finacial Intermediation and Business Activities  1.745338e-06   \n",
      "\n",
      "region                                                           ALB  \\\n",
      "sector                                                   Agriculture   \n",
      "region sector                                                          \n",
      "AFG    Post and Telecommunications                      6.402020e-08   \n",
      "ALB    Post and Telecommunications                      1.748239e-04   \n",
      "DZA    Post and Telecommunications                      2.502243e-08   \n",
      "AND    Post and Telecommunications                      4.417917e-07   \n",
      "AGO    Post and Telecommunications                      1.240330e-07   \n",
      "...                                                              ...   \n",
      "VEN    Finacial Intermediation and Business Activities  6.384868e-13   \n",
      "VNM    Finacial Intermediation and Business Activities  7.885170e-06   \n",
      "YEM    Finacial Intermediation and Business Activities  1.284257e-09   \n",
      "ZMB    Finacial Intermediation and Business Activities  3.351097e-08   \n",
      "ZWE    Finacial Intermediation and Business Activities  4.685918e-06   \n",
      "\n",
      "region                                                           DZA  \\\n",
      "sector                                                   Agriculture   \n",
      "region sector                                                          \n",
      "AFG    Post and Telecommunications                      8.326088e-09   \n",
      "ALB    Post and Telecommunications                      2.278958e-08   \n",
      "DZA    Post and Telecommunications                      1.121000e-04   \n",
      "AND    Post and Telecommunications                      5.939869e-08   \n",
      "AGO    Post and Telecommunications                      1.051806e-08   \n",
      "...                                                              ...   \n",
      "VEN    Finacial Intermediation and Business Activities  8.215738e-14   \n",
      "VNM    Finacial Intermediation and Business Activities  2.829641e-06   \n",
      "YEM    Finacial Intermediation and Business Activities  1.477531e-10   \n",
      "ZMB    Finacial Intermediation and Business Activities  2.278953e-09   \n",
      "ZWE    Finacial Intermediation and Business Activities  1.578820e-07   \n",
      "\n",
      "region                                                           AND  \\\n",
      "sector                                                   Agriculture   \n",
      "region sector                                                          \n",
      "AFG    Post and Telecommunications                      2.858475e-06   \n",
      "ALB    Post and Telecommunications                      1.781780e-05   \n",
      "DZA    Post and Telecommunications                      3.490934e-06   \n",
      "AND    Post and Telecommunications                      1.985579e-03   \n",
      "AGO    Post and Telecommunications                      1.477030e-05   \n",
      "...                                                              ...   \n",
      "VEN    Finacial Intermediation and Business Activities  1.940489e-11   \n",
      "VNM    Finacial Intermediation and Business Activities  1.113243e-04   \n",
      "YEM    Finacial Intermediation and Business Activities  3.653260e-07   \n",
      "ZMB    Finacial Intermediation and Business Activities  3.051034e-06   \n",
      "ZWE    Finacial Intermediation and Business Activities  1.131237e-04   \n",
      "\n",
      "region                                                           AGO  \\\n",
      "sector                                                   Agriculture   \n",
      "region sector                                                          \n",
      "AFG    Post and Telecommunications                      2.366129e-08   \n",
      "ALB    Post and Telecommunications                      5.049775e-08   \n",
      "DZA    Post and Telecommunications                      1.319937e-08   \n",
      "AND    Post and Telecommunications                      1.892812e-07   \n",
      "AGO    Post and Telecommunications                      1.606717e-04   \n",
      "...                                                              ...   \n",
      "VEN    Finacial Intermediation and Business Activities  1.539840e-13   \n",
      "VNM    Finacial Intermediation and Business Activities  6.036266e-06   \n",
      "YEM    Finacial Intermediation and Business Activities  4.569453e-10   \n",
      "ZMB    Finacial Intermediation and Business Activities  3.055023e-09   \n",
      "ZWE    Finacial Intermediation and Business Activities  2.433855e-07   \n",
      "\n",
      "region                                                           ATG  \\\n",
      "sector                                                   Agriculture   \n",
      "region sector                                                          \n",
      "AFG    Post and Telecommunications                      4.959283e-06   \n",
      "ALB    Post and Telecommunications                      2.825481e-05   \n",
      "DZA    Post and Telecommunications                      3.967933e-06   \n",
      "AND    Post and Telecommunications                      1.048000e-05   \n",
      "AGO    Post and Telecommunications                      1.990938e-05   \n",
      "...                                                              ...   \n",
      "VEN    Finacial Intermediation and Business Activities  4.571985e-11   \n",
      "VNM    Finacial Intermediation and Business Activities  2.579506e-04   \n",
      "YEM    Finacial Intermediation and Business Activities  1.884059e-07   \n",
      "ZMB    Finacial Intermediation and Business Activities  6.610556e-06   \n",
      "ZWE    Finacial Intermediation and Business Activities  3.997667e-04   \n",
      "\n",
      "region                                                           ARG  \\\n",
      "sector                                                   Agriculture   \n",
      "region sector                                                          \n",
      "AFG    Post and Telecommunications                      2.768810e-08   \n",
      "ALB    Post and Telecommunications                      2.604669e-07   \n",
      "DZA    Post and Telecommunications                      1.857189e-08   \n",
      "AND    Post and Telecommunications                      2.153757e-07   \n",
      "AGO    Post and Telecommunications                      8.850829e-08   \n",
      "...                                                              ...   \n",
      "VEN    Finacial Intermediation and Business Activities  2.972589e-13   \n",
      "VNM    Finacial Intermediation and Business Activities  4.121731e-06   \n",
      "YEM    Finacial Intermediation and Business Activities  8.239270e-10   \n",
      "ZMB    Finacial Intermediation and Business Activities  3.600525e-08   \n",
      "ZWE    Finacial Intermediation and Business Activities  6.889740e-07   \n",
      "\n",
      "region                                                           ARM  \\\n",
      "sector                                                   Agriculture   \n",
      "region sector                                                          \n",
      "AFG    Post and Telecommunications                      1.151716e-07   \n",
      "ALB    Post and Telecommunications                      5.168434e-07   \n",
      "DZA    Post and Telecommunications                      7.179640e-08   \n",
      "AND    Post and Telecommunications                      8.755649e-07   \n",
      "AGO    Post and Telecommunications                      2.298875e-07   \n",
      "...                                                              ...   \n",
      "VEN    Finacial Intermediation and Business Activities  7.959054e-13   \n",
      "VNM    Finacial Intermediation and Business Activities  1.066218e-05   \n",
      "YEM    Finacial Intermediation and Business Activities  3.042900e-09   \n",
      "ZMB    Finacial Intermediation and Business Activities  8.307998e-08   \n",
      "ZWE    Finacial Intermediation and Business Activities  5.924088e-06   \n",
      "\n",
      "region                                                           ABW  \\\n",
      "sector                                                   Agriculture   \n",
      "region sector                                                          \n",
      "AFG    Post and Telecommunications                      2.865183e-05   \n",
      "ALB    Post and Telecommunications                      1.978017e-04   \n",
      "DZA    Post and Telecommunications                      3.069330e-05   \n",
      "AND    Post and Telecommunications                      5.686126e-05   \n",
      "AGO    Post and Telecommunications                      1.244261e-04   \n",
      "...                                                              ...   \n",
      "VEN    Finacial Intermediation and Business Activities  3.291974e-09   \n",
      "VNM    Finacial Intermediation and Business Activities  1.245583e-03   \n",
      "YEM    Finacial Intermediation and Business Activities  1.078973e-06   \n",
      "ZMB    Finacial Intermediation and Business Activities  4.585859e-05   \n",
      "ZWE    Finacial Intermediation and Business Activities  1.526587e-03   \n",
      "\n",
      "region                                                           AUS  ...  \\\n",
      "sector                                                   Agriculture  ...   \n",
      "region sector                                                         ...   \n",
      "AFG    Post and Telecommunications                      9.319094e-08  ...   \n",
      "ALB    Post and Telecommunications                      5.099358e-07  ...   \n",
      "DZA    Post and Telecommunications                      4.787934e-08  ...   \n",
      "AND    Post and Telecommunications                      4.882078e-07  ...   \n",
      "AGO    Post and Telecommunications                      2.709135e-07  ...   \n",
      "...                                                              ...  ...   \n",
      "VEN    Finacial Intermediation and Business Activities  1.103129e-12  ...   \n",
      "VNM    Finacial Intermediation and Business Activities  8.979790e-04  ...   \n",
      "YEM    Finacial Intermediation and Business Activities  3.122489e-09  ...   \n",
      "ZMB    Finacial Intermediation and Business Activities  1.165593e-07  ...   \n",
      "ZWE    Finacial Intermediation and Business Activities  2.446547e-06  ...   \n",
      "\n",
      "region                                                                   TZA  \\\n",
      "sector                                                 Re-export & Re-import   \n",
      "region sector                                                                  \n",
      "AFG    Post and Telecommunications                              1.771273e-05   \n",
      "ALB    Post and Telecommunications                              9.799188e-05   \n",
      "DZA    Post and Telecommunications                              2.601571e-05   \n",
      "AND    Post and Telecommunications                              5.609059e-05   \n",
      "AGO    Post and Telecommunications                              7.352234e-05   \n",
      "...                                                                      ...   \n",
      "VEN    Finacial Intermediation and Business Activities          1.680675e-10   \n",
      "VNM    Finacial Intermediation and Business Activities          8.130730e-04   \n",
      "YEM    Finacial Intermediation and Business Activities          7.513412e-07   \n",
      "ZMB    Finacial Intermediation and Business Activities          1.171204e-05   \n",
      "ZWE    Finacial Intermediation and Business Activities          3.154817e-04   \n",
      "\n",
      "region                                                                   USA  \\\n",
      "sector                                                 Re-export & Re-import   \n",
      "region sector                                                                  \n",
      "AFG    Post and Telecommunications                              2.099563e-04   \n",
      "ALB    Post and Telecommunications                              8.487520e-04   \n",
      "DZA    Post and Telecommunications                              4.414366e-05   \n",
      "AND    Post and Telecommunications                              5.221035e-04   \n",
      "AGO    Post and Telecommunications                              5.172955e-04   \n",
      "...                                                                      ...   \n",
      "VEN    Finacial Intermediation and Business Activities          2.368450e-10   \n",
      "VNM    Finacial Intermediation and Business Activities          3.614897e-03   \n",
      "YEM    Finacial Intermediation and Business Activities          2.474645e-07   \n",
      "ZMB    Finacial Intermediation and Business Activities          1.082197e-05   \n",
      "ZWE    Finacial Intermediation and Business Activities          1.707474e-04   \n",
      "\n",
      "region                                                                   URY  \\\n",
      "sector                                                 Re-export & Re-import   \n",
      "region sector                                                                  \n",
      "AFG    Post and Telecommunications                              4.884016e-06   \n",
      "ALB    Post and Telecommunications                              3.476268e-05   \n",
      "DZA    Post and Telecommunications                              4.179992e-06   \n",
      "AND    Post and Telecommunications                              1.307868e-05   \n",
      "AGO    Post and Telecommunications                              2.407653e-05   \n",
      "...                                                                      ...   \n",
      "VEN    Finacial Intermediation and Business Activities          7.164153e-11   \n",
      "VNM    Finacial Intermediation and Business Activities          3.209768e-04   \n",
      "YEM    Finacial Intermediation and Business Activities          2.262235e-07   \n",
      "ZMB    Finacial Intermediation and Business Activities          7.356127e-06   \n",
      "ZWE    Finacial Intermediation and Business Activities          2.766813e-04   \n",
      "\n",
      "region                                                                   UZB  \\\n",
      "sector                                                 Re-export & Re-import   \n",
      "region sector                                                                  \n",
      "AFG    Post and Telecommunications                              3.739947e-05   \n",
      "ALB    Post and Telecommunications                              2.900636e-04   \n",
      "DZA    Post and Telecommunications                              5.449431e-05   \n",
      "AND    Post and Telecommunications                              1.198316e-04   \n",
      "AGO    Post and Telecommunications                              1.778970e-04   \n",
      "...                                                                      ...   \n",
      "VEN    Finacial Intermediation and Business Activities          2.140556e-10   \n",
      "VNM    Finacial Intermediation and Business Activities          1.753038e-03   \n",
      "YEM    Finacial Intermediation and Business Activities          7.167896e-07   \n",
      "ZMB    Finacial Intermediation and Business Activities          2.772238e-05   \n",
      "ZWE    Finacial Intermediation and Business Activities          8.508463e-04   \n",
      "\n",
      "region                                                                   VUT  \\\n",
      "sector                                                 Re-export & Re-import   \n",
      "region sector                                                                  \n",
      "AFG    Post and Telecommunications                              3.120219e-05   \n",
      "ALB    Post and Telecommunications                              1.731529e-04   \n",
      "DZA    Post and Telecommunications                              1.909817e-05   \n",
      "AND    Post and Telecommunications                              7.650045e-05   \n",
      "AGO    Post and Telecommunications                              1.020939e-04   \n",
      "...                                                                      ...   \n",
      "VEN    Finacial Intermediation and Business Activities          1.330739e-10   \n",
      "VNM    Finacial Intermediation and Business Activities          1.631561e-03   \n",
      "YEM    Finacial Intermediation and Business Activities          6.253139e-07   \n",
      "ZMB    Finacial Intermediation and Business Activities          2.021250e-05   \n",
      "ZWE    Finacial Intermediation and Business Activities          1.223517e-03   \n",
      "\n",
      "region                                                                   VEN  \\\n",
      "sector                                                 Re-export & Re-import   \n",
      "region sector                                                                  \n",
      "AFG    Post and Telecommunications                              1.713788e-06   \n",
      "ALB    Post and Telecommunications                              7.392289e-06   \n",
      "DZA    Post and Telecommunications                              1.408308e-06   \n",
      "AND    Post and Telecommunications                              4.766910e-06   \n",
      "AGO    Post and Telecommunications                              7.221769e-06   \n",
      "...                                                                      ...   \n",
      "VEN    Finacial Intermediation and Business Activities          1.517859e-03   \n",
      "VNM    Finacial Intermediation and Business Activities          4.822091e-05   \n",
      "YEM    Finacial Intermediation and Business Activities          8.687959e-08   \n",
      "ZMB    Finacial Intermediation and Business Activities          9.983857e-07   \n",
      "ZWE    Finacial Intermediation and Business Activities          2.705485e-05   \n",
      "\n",
      "region                                                                   VNM  \\\n",
      "sector                                                 Re-export & Re-import   \n",
      "region sector                                                                  \n",
      "AFG    Post and Telecommunications                              6.161168e-06   \n",
      "ALB    Post and Telecommunications                              4.255946e-05   \n",
      "DZA    Post and Telecommunications                              6.986285e-06   \n",
      "AND    Post and Telecommunications                              1.455593e-05   \n",
      "AGO    Post and Telecommunications                              2.152613e-05   \n",
      "...                                                                      ...   \n",
      "VEN    Finacial Intermediation and Business Activities          2.363701e-11   \n",
      "VNM    Finacial Intermediation and Business Activities          3.439161e-05   \n",
      "YEM    Finacial Intermediation and Business Activities          2.985408e-07   \n",
      "ZMB    Finacial Intermediation and Business Activities          3.207807e-06   \n",
      "ZWE    Finacial Intermediation and Business Activities          1.862577e-04   \n",
      "\n",
      "region                                                                   YEM  \\\n",
      "sector                                                 Re-export & Re-import   \n",
      "region sector                                                                  \n",
      "AFG    Post and Telecommunications                              1.784146e-05   \n",
      "ALB    Post and Telecommunications                              6.134154e-05   \n",
      "DZA    Post and Telecommunications                              2.272842e-05   \n",
      "AND    Post and Telecommunications                              1.603053e-04   \n",
      "AGO    Post and Telecommunications                              6.906418e-05   \n",
      "...                                                                      ...   \n",
      "VEN    Finacial Intermediation and Business Activities          1.462971e-10   \n",
      "VNM    Finacial Intermediation and Business Activities          1.069373e-03   \n",
      "YEM    Finacial Intermediation and Business Activities          1.084666e-05   \n",
      "ZMB    Finacial Intermediation and Business Activities          1.018803e-05   \n",
      "ZWE    Finacial Intermediation and Business Activities          4.921557e-04   \n",
      "\n",
      "region                                                                   ZMB  \\\n",
      "sector                                                 Re-export & Re-import   \n",
      "region sector                                                                  \n",
      "AFG    Post and Telecommunications                              9.380891e-06   \n",
      "ALB    Post and Telecommunications                              2.137839e-05   \n",
      "DZA    Post and Telecommunications                              8.528938e-06   \n",
      "AND    Post and Telecommunications                              5.618869e-05   \n",
      "AGO    Post and Telecommunications                              2.081640e-05   \n",
      "...                                                                      ...   \n",
      "VEN    Finacial Intermediation and Business Activities          4.570942e-11   \n",
      "VNM    Finacial Intermediation and Business Activities          5.354638e-04   \n",
      "YEM    Finacial Intermediation and Business Activities          2.038152e-07   \n",
      "ZMB    Finacial Intermediation and Business Activities          5.715511e-05   \n",
      "ZWE    Finacial Intermediation and Business Activities          1.317166e-04   \n",
      "\n",
      "region                                                                   ZWE  \n",
      "sector                                                 Re-export & Re-import  \n",
      "region sector                                                                 \n",
      "AFG    Post and Telecommunications                              1.462512e-13  \n",
      "ALB    Post and Telecommunications                              1.600347e-13  \n",
      "DZA    Post and Telecommunications                              1.417264e-13  \n",
      "AND    Post and Telecommunications                              2.835907e-08  \n",
      "AGO    Post and Telecommunications                              1.658668e-13  \n",
      "...                                                                      ...  \n",
      "VEN    Finacial Intermediation and Business Activities          2.428492e-12  \n",
      "VNM    Finacial Intermediation and Business Activities          1.128703e-06  \n",
      "YEM    Finacial Intermediation and Business Activities          2.995474e-13  \n",
      "ZMB    Finacial Intermediation and Business Activities          1.457271e-13  \n",
      "ZWE    Finacial Intermediation and Business Activities          4.756766e-05  \n",
      "\n",
      "[945 rows x 4914 columns]\n"
     ]
    }
   ],
   "source": [
    "# extract the relevant rows and columns in the MRIO corresponding to broadband projects (from production).\n",
    "broadband_sectors = ['Post and Telecommunications', 'Electrical and Machinery', 'Construction', 'Transport', 'Finacial Intermediation and Business Activities']  \n",
    "io_table_secs = io_table.loc[(slice(None), broadband_sectors), (slice(None), broadband_sectors)]\n",
    "fd_table_sectors = fd_table.loc[(slice(None), broadband_sectors), :]\n",
    "broadband_io_table = io_table.loc[(slice(None), broadband_sectors), (slice(None), sectors)]   \n",
    "print(broadband_io_table)\n",
    "broadband_output = broadband_io_table.sum(axis=1)   "
   ]
  },
  {
   "cell_type": "code",
   "execution_count": 38,
   "metadata": {},
   "outputs": [
    {
     "data": {
      "application/vnd.plotly.v1+json": {
       "config": {
        "plotlyServerURL": "https://plot.ly"
       },
       "data": [
        {
         "link": {
          "color": [
           "#808080",
           "#964B00",
           "#4682B4",
           "#AA4499",
           "#DDCC77",
           "#C9E4CA",
           "#C9E4CA",
           "#C9E4CA",
           "#C9E4CA",
           "#C9E4CA",
           "#C9E4CA",
           "#C9E4CA",
           "#C9E4CA",
           "#C9E4CA",
           "#C9E4CA",
           "#C9E4CA",
           "#C9E4CA",
           "#C9E4CA",
           "#C9E4CA",
           "#C9E4CA",
           "#C9E4CA",
           "#C9E4CA",
           "#C9E4CA",
           "#C9E4CA",
           "#C9E4CA",
           "#C9E4CA",
           "#F7D2C4",
           "#F7D2C4",
           "#F7D2C4",
           "#F7D2C4",
           "#F7D2C4",
           "#F7D2C4",
           "#F7D2C4",
           "#F7D2C4",
           "#F7D2C4",
           "#F7D2C4",
           "#F7D2C4",
           "#F7D2C4",
           "#F7D2C4",
           "#F7D2C4",
           "#F7D2C4",
           "#F7D2C4",
           "#F7D2C4",
           "#F7D2C4",
           "#F7D2C4",
           "#F7D2C4",
           "#F7D2C4",
           "#F7D2C4",
           "#F7D2C4",
           "#F7D2C4",
           "#F7D2C4",
           "#F7D2C4",
           "#F7D2C4",
           "#F7D2C4",
           "#F7D2C4",
           "#F7D2C4",
           "#F7D2C4",
           "#F7D2C4",
           "#F7D2C4",
           "#F7D2C4",
           "#F7D2C4",
           "#F7D2C4",
           "#F7D2C4",
           "#F7D2C4",
           "#F7D2C4",
           "#F7D2C4",
           "#F7D2C4",
           "#F7D2C4",
           "#C5CAE9",
           "#C5CAE9",
           "#C5CAE9",
           "#C5CAE9",
           "#C5CAE9",
           "#C5CAE9",
           "#C5CAE9",
           "#C5CAE9",
           "#C5CAE9",
           "#C5CAE9",
           "#C5CAE9",
           "#C5CAE9",
           "#C5CAE9",
           "#C5CAE9",
           "#C5CAE9",
           "#C5CAE9",
           "#C5CAE9",
           "#C5CAE9",
           "#C5CAE9",
           "#C5CAE9",
           "#C5CAE9",
           "#C5CAE9",
           "#C5CAE9",
           "#C5CAE9",
           "#C5CAE9",
           "#C5CAE9",
           "#C5CAE9",
           "#C5CAE9",
           "#C5CAE9",
           "#C5CAE9",
           "#C5CAE9",
           "#C5CAE9",
           "#C5CAE9",
           "#C5CAE9",
           "#C5CAE9",
           "#C5CAE9",
           "#C5CAE9",
           "#C5CAE9",
           "#C5CAE9",
           "#C5CAE9",
           "#C5CAE9",
           "#C5CAE9"
          ],
          "source": [
           0,
           1,
           2,
           3,
           4,
           5,
           5,
           5,
           5,
           5,
           5,
           5,
           5,
           5,
           5,
           5,
           5,
           5,
           5,
           5,
           5,
           5,
           5,
           5,
           5,
           5,
           6,
           6,
           6,
           6,
           6,
           6,
           6,
           6,
           6,
           6,
           6,
           6,
           6,
           6,
           6,
           6,
           6,
           6,
           6,
           6,
           6,
           6,
           6,
           6,
           6,
           6,
           6,
           6,
           6,
           6,
           6,
           6,
           6,
           6,
           6,
           6,
           6,
           6,
           6,
           6,
           6,
           6,
           7,
           7,
           7,
           7,
           7,
           7,
           7,
           7,
           7,
           7,
           7,
           7,
           7,
           7,
           7,
           7,
           7,
           7,
           7,
           7,
           7,
           7,
           7,
           7,
           7,
           7,
           7,
           7,
           7,
           7,
           7,
           7,
           7,
           7,
           7,
           7,
           7,
           7,
           7,
           7,
           7,
           7
          ],
          "target": [
           5,
           6,
           6,
           7,
           7,
           8,
           9,
           10,
           11,
           12,
           13,
           14,
           15,
           16,
           17,
           18,
           19,
           20,
           21,
           22,
           23,
           24,
           25,
           26,
           27,
           28,
           8,
           9,
           10,
           11,
           12,
           13,
           14,
           15,
           16,
           17,
           18,
           19,
           20,
           21,
           22,
           23,
           24,
           25,
           26,
           27,
           28,
           8,
           9,
           10,
           11,
           12,
           13,
           14,
           15,
           16,
           17,
           18,
           19,
           20,
           21,
           22,
           23,
           24,
           25,
           26,
           27,
           28,
           8,
           9,
           10,
           11,
           12,
           13,
           14,
           15,
           16,
           17,
           18,
           19,
           20,
           21,
           22,
           23,
           24,
           25,
           26,
           27,
           28,
           8,
           9,
           10,
           11,
           12,
           13,
           14,
           15,
           16,
           17,
           18,
           19,
           20,
           21,
           22,
           23,
           24,
           25,
           26,
           27,
           28
          ],
          "value": [
           34.622233826640745,
           13.038962673007466,
           60.56494156165033,
           21.724157714441358,
           27.468926071614245,
           13.877177658584987,
           19.144820704489934,
           18.847284081926464,
           15.317086921992182,
           15.46653634258547,
           13.943732602338624,
           21.02626789398331,
           17.244495147179258,
           16.165458467170648,
           17.33067666599934,
           23.437055139655804,
           17.380556470226146,
           28.741449459187564,
           29.888872231504152,
           35.93559597802303,
           22.295593326179763,
           31.13120678449353,
           32.484855945532296,
           29.52961638813239,
           141.05206484473248,
           1173.6878780168822,
           3.107207792680936,
           4.6025960165844,
           6.175287657176506,
           3.302630665300727,
           3.6962679121827726,
           3.0868798254052,
           3.8384347549106153,
           3.982860839831333,
           3.0669328838129353,
           3.7439486833336213,
           8.351498189931624,
           8.362980907089451,
           4.511269509457925,
           3.369784923623706,
           5.461381939333359,
           3.9850961216877576,
           9.86665598681409,
           5.157959744289306,
           5.771113861661213,
           26.35257213780735,
           550.0458241589607,
           4.966801458580065,
           8.325944929614879,
           8.687272530650485,
           5.187792475131641,
           6.633879059893053,
           7.4258464470700165,
           7.38894673839055,
           11.0038798794509,
           43.1207191019367,
           14.024144416884631,
           17.79988332263435,
           7.0855151395568585,
           7.919692392604298,
           5.508690114926294,
           8.142343166271546,
           4.868305879609784,
           11.45314364913477,
           8.38898657718767,
           10.121169853672281,
           20.069195821956452,
           1025.3235595078163,
           2.3687190132297307,
           4.0873732589492935,
           2.858640787979568,
           2.6883852578060674,
           2.699753531497406,
           3.1618431635500177,
           3.1955761993984453,
           3.4615860089255968,
           3.0431192860715304,
           3.927734541388096,
           7.717268977828482,
           3.5269618184120914,
           7.3927657009251035,
           7.867799195330223,
           10.209430830069008,
           5.050217223750967,
           9.790023328934947,
           6.486488995768409,
           8.98859907887384,
           15.576231620344538,
           503.63819936704556,
           5.2723283367764004,
           9.177661473089767,
           7.160450261689349,
           7.620679138885153,
           0.5823821168907162,
           2.9390113461578045,
           8.68450120906607,
           8.537379270585403,
           6.415022540278068,
           8.356781911526728,
           30.172024021055023,
           9.283863210100364,
           9.788297619130034,
           12.143765326150689,
           10.677660811474212,
           5.323896919695468,
           13.531892158608438,
           5.994333591530069,
           6.744381693438331,
           25.745983021690854,
           630.1317920796121
          ]
         },
         "node": {
          "color": [
           "#808080",
           "#964B00",
           "#4682B4",
           "#AA4499",
           "#DDCC77",
           "#C9E4CA",
           "#F7D2C4",
           "#C5CAE9",
           "#C0C0C0",
           "#C0C0C0",
           "#C0C0C0",
           "#C0C0C0",
           "#C0C0C0",
           "#C0C0C0",
           "#C0C0C0",
           "#C0C0C0",
           "#C0C0C0",
           "#C0C0C0",
           "#C0C0C0",
           "#C0C0C0",
           "#C0C0C0",
           "#C0C0C0",
           "#C0C0C0",
           "#C0C0C0",
           "#C0C0C0",
           "#C0C0C0",
           "#C0C0C0",
           "#C0C0C0",
           "#C0C0C0"
          ],
          "label": [
           "Finacial Intermediation and Business Activities",
           "Construction",
           "Electrical and Machinery",
           "Post and Telecommunications",
           "Transport",
           "Investment",
           "Installation",
           "Deployment",
           "Agriculture",
           "Fishing",
           "Mining and Quarrying",
           "Food & Beverages",
           "Textiles and Wearing Apparel",
           "Wood and Paper",
           "Petroleum, Chemical and Non-Metallic Mineral Products",
           "Metal Products",
           "Transport Equipment",
           "Other Manufacturing",
           "Recycling",
           "Electricity, Gas and Water",
           "Maintenance and Repair",
           "Wholesale Trade",
           "Retail Trade",
           "Hotels and Restraurants",
           "Public Administration",
           "Education, Health and Other Services",
           "Private Households",
           "Others",
           "Re-export & Re-import"
          ],
          "line": {
           "color": "black",
           "width": 0.5
          },
          "pad": 15,
          "thickness": 20
         },
         "type": "sankey"
        }
       ],
       "layout": {
        "font": {
         "family": "Times New Roman",
         "size": 16
        },
        "height": 600,
        "template": {
         "data": {
          "bar": [
           {
            "error_x": {
             "color": "#2a3f5f"
            },
            "error_y": {
             "color": "#2a3f5f"
            },
            "marker": {
             "line": {
              "color": "#E5ECF6",
              "width": 0.5
             },
             "pattern": {
              "fillmode": "overlay",
              "size": 10,
              "solidity": 0.2
             }
            },
            "type": "bar"
           }
          ],
          "barpolar": [
           {
            "marker": {
             "line": {
              "color": "#E5ECF6",
              "width": 0.5
             },
             "pattern": {
              "fillmode": "overlay",
              "size": 10,
              "solidity": 0.2
             }
            },
            "type": "barpolar"
           }
          ],
          "carpet": [
           {
            "aaxis": {
             "endlinecolor": "#2a3f5f",
             "gridcolor": "white",
             "linecolor": "white",
             "minorgridcolor": "white",
             "startlinecolor": "#2a3f5f"
            },
            "baxis": {
             "endlinecolor": "#2a3f5f",
             "gridcolor": "white",
             "linecolor": "white",
             "minorgridcolor": "white",
             "startlinecolor": "#2a3f5f"
            },
            "type": "carpet"
           }
          ],
          "choropleth": [
           {
            "colorbar": {
             "outlinewidth": 0,
             "ticks": ""
            },
            "type": "choropleth"
           }
          ],
          "contour": [
           {
            "colorbar": {
             "outlinewidth": 0,
             "ticks": ""
            },
            "colorscale": [
             [
              0,
              "#0d0887"
             ],
             [
              0.1111111111111111,
              "#46039f"
             ],
             [
              0.2222222222222222,
              "#7201a8"
             ],
             [
              0.3333333333333333,
              "#9c179e"
             ],
             [
              0.4444444444444444,
              "#bd3786"
             ],
             [
              0.5555555555555556,
              "#d8576b"
             ],
             [
              0.6666666666666666,
              "#ed7953"
             ],
             [
              0.7777777777777778,
              "#fb9f3a"
             ],
             [
              0.8888888888888888,
              "#fdca26"
             ],
             [
              1,
              "#f0f921"
             ]
            ],
            "type": "contour"
           }
          ],
          "contourcarpet": [
           {
            "colorbar": {
             "outlinewidth": 0,
             "ticks": ""
            },
            "type": "contourcarpet"
           }
          ],
          "heatmap": [
           {
            "colorbar": {
             "outlinewidth": 0,
             "ticks": ""
            },
            "colorscale": [
             [
              0,
              "#0d0887"
             ],
             [
              0.1111111111111111,
              "#46039f"
             ],
             [
              0.2222222222222222,
              "#7201a8"
             ],
             [
              0.3333333333333333,
              "#9c179e"
             ],
             [
              0.4444444444444444,
              "#bd3786"
             ],
             [
              0.5555555555555556,
              "#d8576b"
             ],
             [
              0.6666666666666666,
              "#ed7953"
             ],
             [
              0.7777777777777778,
              "#fb9f3a"
             ],
             [
              0.8888888888888888,
              "#fdca26"
             ],
             [
              1,
              "#f0f921"
             ]
            ],
            "type": "heatmap"
           }
          ],
          "heatmapgl": [
           {
            "colorbar": {
             "outlinewidth": 0,
             "ticks": ""
            },
            "colorscale": [
             [
              0,
              "#0d0887"
             ],
             [
              0.1111111111111111,
              "#46039f"
             ],
             [
              0.2222222222222222,
              "#7201a8"
             ],
             [
              0.3333333333333333,
              "#9c179e"
             ],
             [
              0.4444444444444444,
              "#bd3786"
             ],
             [
              0.5555555555555556,
              "#d8576b"
             ],
             [
              0.6666666666666666,
              "#ed7953"
             ],
             [
              0.7777777777777778,
              "#fb9f3a"
             ],
             [
              0.8888888888888888,
              "#fdca26"
             ],
             [
              1,
              "#f0f921"
             ]
            ],
            "type": "heatmapgl"
           }
          ],
          "histogram": [
           {
            "marker": {
             "pattern": {
              "fillmode": "overlay",
              "size": 10,
              "solidity": 0.2
             }
            },
            "type": "histogram"
           }
          ],
          "histogram2d": [
           {
            "colorbar": {
             "outlinewidth": 0,
             "ticks": ""
            },
            "colorscale": [
             [
              0,
              "#0d0887"
             ],
             [
              0.1111111111111111,
              "#46039f"
             ],
             [
              0.2222222222222222,
              "#7201a8"
             ],
             [
              0.3333333333333333,
              "#9c179e"
             ],
             [
              0.4444444444444444,
              "#bd3786"
             ],
             [
              0.5555555555555556,
              "#d8576b"
             ],
             [
              0.6666666666666666,
              "#ed7953"
             ],
             [
              0.7777777777777778,
              "#fb9f3a"
             ],
             [
              0.8888888888888888,
              "#fdca26"
             ],
             [
              1,
              "#f0f921"
             ]
            ],
            "type": "histogram2d"
           }
          ],
          "histogram2dcontour": [
           {
            "colorbar": {
             "outlinewidth": 0,
             "ticks": ""
            },
            "colorscale": [
             [
              0,
              "#0d0887"
             ],
             [
              0.1111111111111111,
              "#46039f"
             ],
             [
              0.2222222222222222,
              "#7201a8"
             ],
             [
              0.3333333333333333,
              "#9c179e"
             ],
             [
              0.4444444444444444,
              "#bd3786"
             ],
             [
              0.5555555555555556,
              "#d8576b"
             ],
             [
              0.6666666666666666,
              "#ed7953"
             ],
             [
              0.7777777777777778,
              "#fb9f3a"
             ],
             [
              0.8888888888888888,
              "#fdca26"
             ],
             [
              1,
              "#f0f921"
             ]
            ],
            "type": "histogram2dcontour"
           }
          ],
          "mesh3d": [
           {
            "colorbar": {
             "outlinewidth": 0,
             "ticks": ""
            },
            "type": "mesh3d"
           }
          ],
          "parcoords": [
           {
            "line": {
             "colorbar": {
              "outlinewidth": 0,
              "ticks": ""
             }
            },
            "type": "parcoords"
           }
          ],
          "pie": [
           {
            "automargin": true,
            "type": "pie"
           }
          ],
          "scatter": [
           {
            "fillpattern": {
             "fillmode": "overlay",
             "size": 10,
             "solidity": 0.2
            },
            "type": "scatter"
           }
          ],
          "scatter3d": [
           {
            "line": {
             "colorbar": {
              "outlinewidth": 0,
              "ticks": ""
             }
            },
            "marker": {
             "colorbar": {
              "outlinewidth": 0,
              "ticks": ""
             }
            },
            "type": "scatter3d"
           }
          ],
          "scattercarpet": [
           {
            "marker": {
             "colorbar": {
              "outlinewidth": 0,
              "ticks": ""
             }
            },
            "type": "scattercarpet"
           }
          ],
          "scattergeo": [
           {
            "marker": {
             "colorbar": {
              "outlinewidth": 0,
              "ticks": ""
             }
            },
            "type": "scattergeo"
           }
          ],
          "scattergl": [
           {
            "marker": {
             "colorbar": {
              "outlinewidth": 0,
              "ticks": ""
             }
            },
            "type": "scattergl"
           }
          ],
          "scattermapbox": [
           {
            "marker": {
             "colorbar": {
              "outlinewidth": 0,
              "ticks": ""
             }
            },
            "type": "scattermapbox"
           }
          ],
          "scatterpolar": [
           {
            "marker": {
             "colorbar": {
              "outlinewidth": 0,
              "ticks": ""
             }
            },
            "type": "scatterpolar"
           }
          ],
          "scatterpolargl": [
           {
            "marker": {
             "colorbar": {
              "outlinewidth": 0,
              "ticks": ""
             }
            },
            "type": "scatterpolargl"
           }
          ],
          "scatterternary": [
           {
            "marker": {
             "colorbar": {
              "outlinewidth": 0,
              "ticks": ""
             }
            },
            "type": "scatterternary"
           }
          ],
          "surface": [
           {
            "colorbar": {
             "outlinewidth": 0,
             "ticks": ""
            },
            "colorscale": [
             [
              0,
              "#0d0887"
             ],
             [
              0.1111111111111111,
              "#46039f"
             ],
             [
              0.2222222222222222,
              "#7201a8"
             ],
             [
              0.3333333333333333,
              "#9c179e"
             ],
             [
              0.4444444444444444,
              "#bd3786"
             ],
             [
              0.5555555555555556,
              "#d8576b"
             ],
             [
              0.6666666666666666,
              "#ed7953"
             ],
             [
              0.7777777777777778,
              "#fb9f3a"
             ],
             [
              0.8888888888888888,
              "#fdca26"
             ],
             [
              1,
              "#f0f921"
             ]
            ],
            "type": "surface"
           }
          ],
          "table": [
           {
            "cells": {
             "fill": {
              "color": "#EBF0F8"
             },
             "line": {
              "color": "white"
             }
            },
            "header": {
             "fill": {
              "color": "#C8D4E3"
             },
             "line": {
              "color": "white"
             }
            },
            "type": "table"
           }
          ]
         },
         "layout": {
          "annotationdefaults": {
           "arrowcolor": "#2a3f5f",
           "arrowhead": 0,
           "arrowwidth": 1
          },
          "autotypenumbers": "strict",
          "coloraxis": {
           "colorbar": {
            "outlinewidth": 0,
            "ticks": ""
           }
          },
          "colorscale": {
           "diverging": [
            [
             0,
             "#8e0152"
            ],
            [
             0.1,
             "#c51b7d"
            ],
            [
             0.2,
             "#de77ae"
            ],
            [
             0.3,
             "#f1b6da"
            ],
            [
             0.4,
             "#fde0ef"
            ],
            [
             0.5,
             "#f7f7f7"
            ],
            [
             0.6,
             "#e6f5d0"
            ],
            [
             0.7,
             "#b8e186"
            ],
            [
             0.8,
             "#7fbc41"
            ],
            [
             0.9,
             "#4d9221"
            ],
            [
             1,
             "#276419"
            ]
           ],
           "sequential": [
            [
             0,
             "#0d0887"
            ],
            [
             0.1111111111111111,
             "#46039f"
            ],
            [
             0.2222222222222222,
             "#7201a8"
            ],
            [
             0.3333333333333333,
             "#9c179e"
            ],
            [
             0.4444444444444444,
             "#bd3786"
            ],
            [
             0.5555555555555556,
             "#d8576b"
            ],
            [
             0.6666666666666666,
             "#ed7953"
            ],
            [
             0.7777777777777778,
             "#fb9f3a"
            ],
            [
             0.8888888888888888,
             "#fdca26"
            ],
            [
             1,
             "#f0f921"
            ]
           ],
           "sequentialminus": [
            [
             0,
             "#0d0887"
            ],
            [
             0.1111111111111111,
             "#46039f"
            ],
            [
             0.2222222222222222,
             "#7201a8"
            ],
            [
             0.3333333333333333,
             "#9c179e"
            ],
            [
             0.4444444444444444,
             "#bd3786"
            ],
            [
             0.5555555555555556,
             "#d8576b"
            ],
            [
             0.6666666666666666,
             "#ed7953"
            ],
            [
             0.7777777777777778,
             "#fb9f3a"
            ],
            [
             0.8888888888888888,
             "#fdca26"
            ],
            [
             1,
             "#f0f921"
            ]
           ]
          },
          "colorway": [
           "#636efa",
           "#EF553B",
           "#00cc96",
           "#ab63fa",
           "#FFA15A",
           "#19d3f3",
           "#FF6692",
           "#B6E880",
           "#FF97FF",
           "#FECB52"
          ],
          "font": {
           "color": "#2a3f5f"
          },
          "geo": {
           "bgcolor": "white",
           "lakecolor": "white",
           "landcolor": "#E5ECF6",
           "showlakes": true,
           "showland": true,
           "subunitcolor": "white"
          },
          "hoverlabel": {
           "align": "left"
          },
          "hovermode": "closest",
          "mapbox": {
           "style": "light"
          },
          "paper_bgcolor": "white",
          "plot_bgcolor": "#E5ECF6",
          "polar": {
           "angularaxis": {
            "gridcolor": "white",
            "linecolor": "white",
            "ticks": ""
           },
           "bgcolor": "#E5ECF6",
           "radialaxis": {
            "gridcolor": "white",
            "linecolor": "white",
            "ticks": ""
           }
          },
          "scene": {
           "xaxis": {
            "backgroundcolor": "#E5ECF6",
            "gridcolor": "white",
            "gridwidth": 2,
            "linecolor": "white",
            "showbackground": true,
            "ticks": "",
            "zerolinecolor": "white"
           },
           "yaxis": {
            "backgroundcolor": "#E5ECF6",
            "gridcolor": "white",
            "gridwidth": 2,
            "linecolor": "white",
            "showbackground": true,
            "ticks": "",
            "zerolinecolor": "white"
           },
           "zaxis": {
            "backgroundcolor": "#E5ECF6",
            "gridcolor": "white",
            "gridwidth": 2,
            "linecolor": "white",
            "showbackground": true,
            "ticks": "",
            "zerolinecolor": "white"
           }
          },
          "shapedefaults": {
           "line": {
            "color": "#2a3f5f"
           }
          },
          "ternary": {
           "aaxis": {
            "gridcolor": "white",
            "linecolor": "white",
            "ticks": ""
           },
           "baxis": {
            "gridcolor": "white",
            "linecolor": "white",
            "ticks": ""
           },
           "bgcolor": "#E5ECF6",
           "caxis": {
            "gridcolor": "white",
            "linecolor": "white",
            "ticks": ""
           }
          },
          "title": {
           "x": 0.05
          },
          "xaxis": {
           "automargin": true,
           "gridcolor": "white",
           "linecolor": "white",
           "ticks": "",
           "title": {
            "standoff": 15
           },
           "zerolinecolor": "white",
           "zerolinewidth": 2
          },
          "yaxis": {
           "automargin": true,
           "gridcolor": "white",
           "linecolor": "white",
           "ticks": "",
           "title": {
            "standoff": 15
           },
           "zerolinecolor": "white",
           "zerolinewidth": 2
          }
         }
        },
        "title": {
         "text": "Monetary Flows from Broadband Sectors Across Other Industrial Sectors"
        },
        "width": 1000
       }
      }
     },
     "metadata": {},
     "output_type": "display_data"
    }
   ],
   "source": [
    " \n",
    "colors = {  \n",
    "   'Investment': '#C9E4CA',  \n",
    "   'Installation': '#F7D2C4',  \n",
    "   'Deployment': '#C5CAE9',  \n",
    "   'Finacial Intermediation and Business Activities': '#808080',  \n",
    "   'Construction': '#964B00',  \n",
    "   'Electrical and Machinery': '#4682B4',  \n",
    "   'Post and Telecommunications': '#AA4499',  \n",
    "   'Transport': '#DDCC77'  \n",
    "}  \n",
    "  \n",
    "source_indices = []  \n",
    "target_indices = []  \n",
    "values = []  \n",
    "colors_list = []  \n",
    "  \n",
    "sectors = ['Finacial Intermediation and Business Activities', 'Construction', 'Electrical and Machinery', 'Post and Telecommunications', 'Transport']  \n",
    "  \n",
    "middle_sections = {  \n",
    "   'Investment': ['Finacial Intermediation and Business Activities'],  \n",
    "   'Installation': ['Construction', 'Electrical and Machinery'],  \n",
    "   'Deployment': ['Post and Telecommunications', 'Transport']  \n",
    "}  \n",
    "  \n",
    "other_sectors = io_table.columns.get_level_values(1).unique().tolist()  \n",
    "other_sectors = [sector for sector in other_sectors if sector not in sectors]  \n",
    "  \n",
    "for i, sector in enumerate(sectors):  \n",
    "   for j, middle_section in enumerate(middle_sections.keys()):  \n",
    "      if sector in middle_sections[middle_section]:  \n",
    "        source_indices.append(i)  \n",
    "        target_indices.append(len(sectors) + j)  \n",
    "        values.append(io_table.loc[(slice(None), sector), (slice(None), sector)].sum().sum())  \n",
    "        colors_list.append(colors[sector])  \n",
    "  \n",
    "for i, middle_section in enumerate(middle_sections.keys()):  \n",
    "   for j, specific_sector in enumerate(middle_sections[middle_section]):  \n",
    "      for k, other_sector in enumerate(other_sectors):  \n",
    "        source_indices.append(len(sectors) + i)  \n",
    "        target_indices.append(len(sectors) + len(middle_sections) + k)  \n",
    "        values.append(io_table.loc[(slice(None), specific_sector), (slice(None), other_sector)].sum().sum())  \n",
    "        colors_list.append(colors[middle_section])  \n",
    "  \n",
    "fig = go.Figure(data=[go.Sankey(  \n",
    "   node=dict(  \n",
    "      pad=15,  \n",
    "      thickness=20,  \n",
    "      line=dict(color=\"black\", width=0.5),  \n",
    "      label=sectors + list(middle_sections.keys()) + other_sectors,  \n",
    "      color=[colors[sector] if sector in sectors else  \n",
    "          colors['Investment'] if sector == 'Investment' else  \n",
    "          colors['Installation'] if sector == 'Installation' else  \n",
    "          colors['Deployment'] if sector == 'Deployment' else  \n",
    "          '#C0C0C0' for sector in sectors + list(middle_sections.keys()) + other_sectors]  \n",
    "   ),  \n",
    "   link=dict(  \n",
    "      source=source_indices,  \n",
    "      target=target_indices,  \n",
    "      value=values,  \n",
    "      color=colors_list  \n",
    "   )  \n",
    ")])  \n",
    "  \n",
    "fig.update_layout(  \n",
    "   title_text=\"Monetary Flows from Broadband Sectors Across Other Industrial Sectors\", font_family='Times New Roman',  \n",
    "   font_size=16,  \n",
    "   width=1000, \n",
    "   height=600  \n",
    ")  \n",
    "  \n",
    "fig.show()\n",
    "\n"
   ]
  },
  {
   "cell_type": "code",
   "execution_count": null,
   "metadata": {},
   "outputs": [
    {
     "name": "stdout",
     "output_type": "stream",
     "text": [
      "Total monetary value for each source category:\n",
      "sector\n",
      "Construction                                        702.601727\n",
      "Electrical and Machinery                           1339.200000\n",
      "Finacial Intermediation and Business Activities    1866.032992\n",
      "Post and Telecommunications                         661.471857\n",
      "Transport                                           876.521185\n",
      "dtype: float64\n",
      "\n",
      "Top most affected sectors from the broadband sectors:\n",
      "Top 5 most affected sectors from Post and Telecommunications:\n",
      "region  sector               \n",
      "KWT     Re-export & Re-import    265.234372\n",
      "JPN     Re-export & Re-import    225.528602\n",
      "CHL     Others                     4.106766\n",
      "LBR     Recycling                  3.357538\n",
      "MDA     Re-export & Re-import      2.812008\n",
      "Name: Post and Telecommunications, dtype: float64\n",
      "Top 5 most affected sectors from Electrical and Machinery:\n",
      "region  sector               \n",
      "KWT     Re-export & Re-import    608.000609\n",
      "JPN     Re-export & Re-import    385.314837\n",
      "LBR     Recycling                  8.153885\n",
      "CHL     Others                     6.350025\n",
      "MDA     Others                     3.953023\n",
      "Name: Electrical and Machinery, dtype: float64\n",
      "Top 5 most affected sectors from Construction:\n",
      "region  sector               \n",
      "KWT     Re-export & Re-import    288.365267\n",
      "JPN     Re-export & Re-import    245.112751\n",
      "CHL     Others                    19.272815\n",
      "LBR     Recycling                  3.603687\n",
      "MDA     Re-export & Re-import      2.891323\n",
      "Name: Construction, dtype: float64\n",
      "Top 5 most affected sectors from Transport:\n",
      "region  sector               \n",
      "KWT     Re-export & Re-import    335.986437\n",
      "JPN     Re-export & Re-import    272.587254\n",
      "CHL     Others                    13.072312\n",
      "MDA     Re-export & Re-import      6.444041\n",
      "LBR     Recycling                  4.956984\n",
      "Name: Transport, dtype: float64\n",
      "Top 5 most affected sectors from Finacial Intermediation and Business Activities:\n",
      "region  sector               \n",
      "KWT     Re-export & Re-import    620.717848\n",
      "JPN     Re-export & Re-import    521.304425\n",
      "CHL     Others                    97.276273\n",
      "LBR     Recycling                  9.097155\n",
      "MAC     Fishing                    5.983977\n",
      "Name: Finacial Intermediation and Business Activities, dtype: float64\n"
     ]
    }
   ],
   "source": [
    "category_values = broadband_output.groupby(level=1).sum()  \n",
    "  \n",
    "print(\"Total monetary value for each source category:\")  \n",
    "print(category_values)  \n",
    "  \n",
    "top_affected_sectors = broadband_io_table.groupby(level=1).sum().T  \n",
    "   \n",
    "print(\"\\nTop most affected sectors from the broadband sectors:\")  \n",
    "for sector in broadband_sectors:  \n",
    "   top_sectors = top_affected_sectors[sector].nlargest(5)  \n",
    "   print(f\"Top 5 most affected sectors from {sector}:\")  \n",
    "   print(top_sectors)\n"
   ]
  }
 ],
 "metadata": {
  "kernelspec": {
   "display_name": "Python 3",
   "language": "python",
   "name": "python3"
  },
  "language_info": {
   "codemirror_mode": {
    "name": "ipython",
    "version": 3
   },
   "file_extension": ".py",
   "mimetype": "text/x-python",
   "name": "python",
   "nbconvert_exporter": "python",
   "pygments_lexer": "ipython3",
   "version": "3.11.9"
  }
 },
 "nbformat": 4,
 "nbformat_minor": 2
}
